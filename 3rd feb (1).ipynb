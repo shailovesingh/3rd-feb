{
 "cells": [
  {
   "cell_type": "code",
   "execution_count": 47,
   "id": "27dd0580-c002-4130-abe4-f23ee60e2e7b",
   "metadata": {},
   "outputs": [],
   "source": [
    "#Q1.\n",
    "''' def function is used to create a function'''\n",
    "def func():\n",
    "    Ist = []\n",
    "    for i in range (1,26):\n",
    "        if i % 2 != 0:\n",
    "            Ist.append(i)\n",
    "    return Ist"
   ]
  },
  {
   "cell_type": "code",
   "execution_count": 48,
   "id": "80cfb18f-b58d-4139-823d-61c37867c56b",
   "metadata": {},
   "outputs": [
    {
     "data": {
      "text/plain": [
       "[1, 3, 5, 7, 9, 11, 13, 15, 17, 19, 21, 23, 25]"
      ]
     },
     "execution_count": 48,
     "metadata": {},
     "output_type": "execute_result"
    }
   ],
   "source": [
    "func()"
   ]
  },
  {
   "cell_type": "markdown",
   "id": "7e33ebc7-1a7c-46ca-bc82-f023c38637d0",
   "metadata": {},
   "source": [
    "Q2.\n",
    "\n",
    "args are used inside function as a input, by using args we can give 'n' no of argumentss when we call the function.also *args always return the output as a tuple. here arguments are pass in the form of variable length.\n",
    "\n",
    "kwargs are also used inside function as input, by using kargs we can give 'n' no of arguments but as a key = value from when calling the function. **kwargs always return the output as a dictionary"
   ]
  },
  {
   "cell_type": "code",
   "execution_count": 49,
   "id": "518592be-0142-4f34-9a65-a057bb402565",
   "metadata": {},
   "outputs": [],
   "source": [
    "#ex\n",
    "\n",
    "def func1(*args):\n",
    "    sum = 0\n",
    "    for i in args:\n",
    "        sum = sum + i\n",
    "    return sum"
   ]
  },
  {
   "cell_type": "code",
   "execution_count": 50,
   "id": "1428ed01-bd81-4e10-87d2-03db0306b74d",
   "metadata": {},
   "outputs": [
    {
     "data": {
      "text/plain": [
       "24"
      ]
     },
     "execution_count": 50,
     "metadata": {},
     "output_type": "execute_result"
    }
   ],
   "source": [
    "func1(1,23)"
   ]
  },
  {
   "cell_type": "code",
   "execution_count": 51,
   "id": "5b3a4f61-4319-4730-8ceb-4995f1a41e79",
   "metadata": {},
   "outputs": [],
   "source": [
    "# kwargs ex\n",
    "\n",
    "def func2(**kwargs):\n",
    "    sum = 0\n",
    "    for key in kwargs:\n",
    "        sum = sum + kwargs[key]\n",
    "    return sum"
   ]
  },
  {
   "cell_type": "code",
   "execution_count": 52,
   "id": "eba5de30-2268-4491-bc44-a813d4446034",
   "metadata": {},
   "outputs": [
    {
     "data": {
      "text/plain": [
       "57"
      ]
     },
     "execution_count": 52,
     "metadata": {},
     "output_type": "execute_result"
    }
   ],
   "source": [
    "func2(a=23,b=34)"
   ]
  },
  {
   "cell_type": "markdown",
   "id": "098860c3-0163-4da2-bf03-4d859adcc4ed",
   "metadata": {},
   "source": [
    "Q3.\n",
    "\n",
    "An iterator is an object that contains a countable number of values. An iterator is an object that can be iterated upon, meaning that you can traverse through all the values. Technically, in Python, an iterator is an object which implements the iterator protocol, which consist of the methods __iter__() and __next__() ."
   ]
  },
  {
   "cell_type": "code",
   "execution_count": 53,
   "id": "c3bca8df-ef29-4a59-a29e-ec388965f2e4",
   "metadata": {},
   "outputs": [],
   "source": [
    "Ist = [2,4,6,8,12,14,16,18,20]"
   ]
  },
  {
   "cell_type": "code",
   "execution_count": 54,
   "id": "ce20286b-c69e-4bc5-8a61-14ee22e3c47d",
   "metadata": {},
   "outputs": [],
   "source": [
    "Ist1 = iter(Ist)"
   ]
  },
  {
   "cell_type": "code",
   "execution_count": 55,
   "id": "48910c92-9379-4616-8713-450fd1dbde38",
   "metadata": {},
   "outputs": [
    {
     "data": {
      "text/plain": [
       "2"
      ]
     },
     "execution_count": 55,
     "metadata": {},
     "output_type": "execute_result"
    }
   ],
   "source": [
    "next(Ist1)"
   ]
  },
  {
   "cell_type": "code",
   "execution_count": 56,
   "id": "9fc0cb1b-ad4e-408e-b208-81d639121a27",
   "metadata": {},
   "outputs": [
    {
     "data": {
      "text/plain": [
       "4"
      ]
     },
     "execution_count": 56,
     "metadata": {},
     "output_type": "execute_result"
    }
   ],
   "source": [
    "next(Ist1)"
   ]
  },
  {
   "cell_type": "code",
   "execution_count": 57,
   "id": "958db8b5-1a40-4211-85ed-d1a4910deaf8",
   "metadata": {},
   "outputs": [
    {
     "data": {
      "text/plain": [
       "6"
      ]
     },
     "execution_count": 57,
     "metadata": {},
     "output_type": "execute_result"
    }
   ],
   "source": [
    "next(Ist1)"
   ]
  },
  {
   "cell_type": "code",
   "execution_count": 58,
   "id": "2ad1c89f-8876-4add-a144-3be3c0de0aa7",
   "metadata": {},
   "outputs": [
    {
     "data": {
      "text/plain": [
       "8"
      ]
     },
     "execution_count": 58,
     "metadata": {},
     "output_type": "execute_result"
    }
   ],
   "source": [
    "next(Ist1)"
   ]
  },
  {
   "cell_type": "code",
   "execution_count": 59,
   "id": "2f8a3239-e374-434a-a5fa-b74e13c7ebc5",
   "metadata": {},
   "outputs": [
    {
     "data": {
      "text/plain": [
       "12"
      ]
     },
     "execution_count": 59,
     "metadata": {},
     "output_type": "execute_result"
    }
   ],
   "source": [
    "next(Ist1)"
   ]
  },
  {
   "cell_type": "markdown",
   "id": "818ff979-9ff5-4b71-bced-a0e192d13d52",
   "metadata": {},
   "source": [
    "Q4.\n",
    "\n",
    "Generator is basically a function which is used to generate the function at some memory location.This can be achieved by using keyword 'yield'. yield keyword is used inside a function body to create the generator"
   ]
  },
  {
   "cell_type": "code",
   "execution_count": 60,
   "id": "80470ee9-d9f1-4ae5-95d0-fdb8e15b383e",
   "metadata": {},
   "outputs": [],
   "source": [
    "def func(n):\n",
    "    for i in range(n):\n",
    "        yield i*n"
   ]
  },
  {
   "cell_type": "code",
   "execution_count": 61,
   "id": "04c12572-e1c4-4f25-a68a-5e395d0e8d3b",
   "metadata": {},
   "outputs": [
    {
     "name": "stdout",
     "output_type": "stream",
     "text": [
      "<generator object func at 0x7ff73418af80>\n"
     ]
    }
   ],
   "source": [
    "a = func(4)\n",
    "print(a)"
   ]
  },
  {
   "cell_type": "code",
   "execution_count": 62,
   "id": "89bf7873-2655-4b5a-be68-ec640dbb0967",
   "metadata": {},
   "outputs": [
    {
     "data": {
      "text/plain": [
       "0"
      ]
     },
     "execution_count": 62,
     "metadata": {},
     "output_type": "execute_result"
    }
   ],
   "source": [
    "next(a)"
   ]
  },
  {
   "cell_type": "code",
   "execution_count": 63,
   "id": "a3c4d60a-fcef-4d1c-9dbf-ceee2010162e",
   "metadata": {},
   "outputs": [
    {
     "data": {
      "text/plain": [
       "4"
      ]
     },
     "execution_count": 63,
     "metadata": {},
     "output_type": "execute_result"
    }
   ],
   "source": [
    "next(a)"
   ]
  },
  {
   "cell_type": "code",
   "execution_count": 64,
   "id": "216d2c44-2d80-4db5-bfd7-b45f0168e2d7",
   "metadata": {},
   "outputs": [],
   "source": [
    "def prime_num():\n",
    "    \n",
    "    print(\"Prime numbers in range 1 to 1000\")\n",
    "    for i in range(2,1000+1):\n",
    "        prime = 0\n",
    "        for j in range(2,i):\n",
    "            if i % j == 0:\n",
    "                prime = 1\n",
    "                break\n",
    "            if prime == 0:\n",
    "                yield i"
   ]
  },
  {
   "cell_type": "code",
   "execution_count": 65,
   "id": "e839f439-a0fa-436e-9195-4be936d7f062",
   "metadata": {},
   "outputs": [
    {
     "name": "stdout",
     "output_type": "stream",
     "text": [
      "<generator object prime_num at 0x7ff73418b290>\n"
     ]
    }
   ],
   "source": [
    "a = prime_num()\n",
    "print(a)"
   ]
  },
  {
   "cell_type": "code",
   "execution_count": 66,
   "id": "9ef4f211-6bc1-4243-9240-63b03159e79f",
   "metadata": {},
   "outputs": [
    {
     "name": "stdout",
     "output_type": "stream",
     "text": [
      "Prime numbers in range 1 to 1000\n"
     ]
    },
    {
     "data": {
      "text/plain": [
       "3"
      ]
     },
     "execution_count": 66,
     "metadata": {},
     "output_type": "execute_result"
    }
   ],
   "source": [
    "next(a)"
   ]
  },
  {
   "cell_type": "code",
   "execution_count": 67,
   "id": "411f1480-eb87-4412-858f-6fd0a758d7cb",
   "metadata": {},
   "outputs": [
    {
     "data": {
      "text/plain": [
       "5"
      ]
     },
     "execution_count": 67,
     "metadata": {},
     "output_type": "execute_result"
    }
   ],
   "source": [
    "next(a)"
   ]
  },
  {
   "cell_type": "code",
   "execution_count": 68,
   "id": "a77fb809-e7a1-4066-a154-0e4ea04d4ca2",
   "metadata": {},
   "outputs": [],
   "source": [
    "#Q6.\n",
    "\n",
    "def fibo(n):\n",
    "    a,b = 0,1\n",
    "    while n:\n",
    "        print(a)\n",
    "        c = a+b\n",
    "        a=b\n",
    "        b=c\n",
    "        n = n-1"
   ]
  },
  {
   "cell_type": "code",
   "execution_count": 69,
   "id": "9c9d7ef9-e437-4a4e-90aa-d5800c9d15d3",
   "metadata": {},
   "outputs": [
    {
     "name": "stdout",
     "output_type": "stream",
     "text": [
      "0\n",
      "1\n",
      "1\n",
      "2\n",
      "3\n",
      "5\n",
      "8\n",
      "13\n",
      "21\n",
      "34\n"
     ]
    }
   ],
   "source": [
    "a = fibo(10)\n",
    "a"
   ]
  },
  {
   "cell_type": "code",
   "execution_count": 70,
   "id": "805994c5-1c8b-46e6-b862-4cf4dc4dac2e",
   "metadata": {},
   "outputs": [
    {
     "data": {
      "text/plain": [
       "['p', 'w', 's', 'k', 'i', 'l', 'l', 's']"
      ]
     },
     "execution_count": 70,
     "metadata": {},
     "output_type": "execute_result"
    }
   ],
   "source": [
    "#Q7.\n",
    "\n",
    "string = \"pwskills\"\n",
    "[i for i in string]"
   ]
  },
  {
   "cell_type": "code",
   "execution_count": 72,
   "id": "c17b56f5-013b-4211-b002-46db89b1a9a1",
   "metadata": {},
   "outputs": [
    {
     "name": "stdin",
     "output_type": "stream",
     "text": [
      "Enter the number 556456456\n"
     ]
    },
    {
     "name": "stdout",
     "output_type": "stream",
     "text": [
      "not palindrome no.\n"
     ]
    }
   ],
   "source": [
    "#Q8.\n",
    "\n",
    "n = int(input(\"Enter the number\"))\n",
    "rev = 0\n",
    "x = n\n",
    "while n>0:\n",
    "    rev = (rev*10) + n%10\n",
    "    n = n//10\n",
    "if (x==rev):\n",
    "    print(\"palindrome no.\")\n",
    "else:\n",
    "    print(\"not palindrome no.\")   "
   ]
  },
  {
   "cell_type": "markdown",
   "id": "dd99cb4f-fe3b-42e6-8b78-6a60941b61ec",
   "metadata": {},
   "source": [
    "Q9"
   ]
  },
  {
   "cell_type": "code",
   "execution_count": 77,
   "id": "55269b29-a36a-4973-a760-94310221ecef",
   "metadata": {},
   "outputs": [],
   "source": [
    "Ist1 = [n for n in range(1,101)]"
   ]
  },
  {
   "cell_type": "code",
   "execution_count": 78,
   "id": "d12c80be-8501-44b2-8b15-2066d81e5bd6",
   "metadata": {},
   "outputs": [
    {
     "name": "stdout",
     "output_type": "stream",
     "text": [
      "[1, 2, 3, 4, 5, 6, 7, 8, 9, 10, 11, 12, 13, 14, 15, 16, 17, 18, 19, 20, 21, 22, 23, 24, 25, 26, 27, 28, 29, 30, 31, 32, 33, 34, 35, 36, 37, 38, 39, 40, 41, 42, 43, 44, 45, 46, 47, 48, 49, 50, 51, 52, 53, 54, 55, 56, 57, 58, 59, 60, 61, 62, 63, 64, 65, 66, 67, 68, 69, 70, 71, 72, 73, 74, 75, 76, 77, 78, 79, 80, 81, 82, 83, 84, 85, 86, 87, 88, 89, 90, 91, 92, 93, 94, 95, 96, 97, 98, 99, 100]"
     ]
    }
   ],
   "source": [
    "print(Ist1,end='')"
   ]
  },
  {
   "cell_type": "code",
   "execution_count": 79,
   "id": "bcab6fc2-2760-4149-aac4-a443231f51a5",
   "metadata": {},
   "outputs": [],
   "source": [
    "Ist2 = [i for i in Ist1 if i%2==1]"
   ]
  },
  {
   "cell_type": "code",
   "execution_count": 80,
   "id": "3f08c76c-2517-4ce9-b71b-2e029e208f5a",
   "metadata": {},
   "outputs": [
    {
     "name": "stdout",
     "output_type": "stream",
     "text": [
      "[1, 3, 5, 7, 9, 11, 13, 15, 17, 19, 21, 23, 25, 27, 29, 31, 33, 35, 37, 39, 41, 43, 45, 47, 49, 51, 53, 55, 57, 59, 61, 63, 65, 67, 69, 71, 73, 75, 77, 79, 81, 83, 85, 87, 89, 91, 93, 95, 97, 99]"
     ]
    }
   ],
   "source": [
    "print(Ist2,end='')"
   ]
  },
  {
   "cell_type": "code",
   "execution_count": null,
   "id": "b0116aef-cee6-4771-9400-9883776f42ac",
   "metadata": {},
   "outputs": [],
   "source": []
  },
  {
   "cell_type": "code",
   "execution_count": null,
   "id": "3c619173-7bf7-421d-9f7a-142038e6fe47",
   "metadata": {},
   "outputs": [],
   "source": []
  }
 ],
 "metadata": {
  "kernelspec": {
   "display_name": "Python 3 (ipykernel)",
   "language": "python",
   "name": "python3"
  },
  "language_info": {
   "codemirror_mode": {
    "name": "ipython",
    "version": 3
   },
   "file_extension": ".py",
   "mimetype": "text/x-python",
   "name": "python",
   "nbconvert_exporter": "python",
   "pygments_lexer": "ipython3",
   "version": "3.10.8"
  }
 },
 "nbformat": 4,
 "nbformat_minor": 5
}
